{
 "cells": [
  {
   "cell_type": "code",
   "execution_count": 22,
   "metadata": {
    "scrolled": true
   },
   "outputs": [],
   "source": [
    "# Dependencies\n",
    "import pandas as pd\n",
    "import numpy as np\n",
    "import requests\n",
    "import json\n",
    "from pprint import pprint\n",
    "# Google API Key\n",
    "from config import *\n",
    "import re"
   ]
  },
  {
   "cell_type": "code",
   "execution_count": 23,
   "metadata": {},
   "outputs": [
    {
     "data": {
      "text/plain": [
       "Index(['id', 'address', 'zip_code', 'latitude', 'longitude', 'city', 'state',\n",
       "       'categories'],\n",
       "      dtype='object')"
      ]
     },
     "execution_count": 23,
     "metadata": {},
     "output_type": "execute_result"
    }
   ],
   "source": [
    "# Reading the restaurant data\n",
    "restaurant = pd.read_csv(\"./Resources/restaurant.csv\")\n",
    "restaurant.columns"
   ]
  },
  {
   "cell_type": "code",
   "execution_count": 24,
   "metadata": {},
   "outputs": [],
   "source": [
    "# Setting up additional columns to hold data\n",
    "restaurant['rating'] = \"\"\n",
    "restaurant['name'] = \"\"\n",
    "restaurant[\"price_level\"] = \"\""
   ]
  },
  {
   "cell_type": "code",
   "execution_count": 25,
   "metadata": {},
   "outputs": [
    {
     "name": "stdout",
     "output_type": "stream",
     "text": [
      "3703 Paxton Ave, Cincinnati, OH 45209, USA\n"
     ]
    }
   ],
   "source": [
    "# Gathering restaurant info and rating for that latitude and logitude\n",
    "base_url = \"https://maps.googleapis.com/maps/api/place/textsearch/json?\"\n",
    "params = {\n",
    "    \"ranking\": \"prominence\",\n",
    "    'type': 'restaurant',\n",
    "    'keyword': 'pizza',\n",
    "    \"key\": gkey\n",
    "}\n",
    "\n",
    "# use iterrows to iterate through pandas dataframe\n",
    "for index, row in restaurant.iterrows():\n",
    "\n",
    "    params['query'] = f\"{row['address']}, &{row['city']}, &{row['state']} &{row['zip_code']}, USA\"\n",
    "    params['location'] = row['latitude'],row['longitude']\n",
    "\n",
    "    # assemble url and make API request\n",
    "\n",
    "    address = f\"{row['address']}, {row['city']}, {row['state']} {row['zip_code']}, USA\"\n",
    "    response = requests.get(base_url, params=params).json()\n",
    "\n",
    "\n",
    "    try:\n",
    "        # extract results\n",
    "        results = response['results']\n",
    "        for result in results:\n",
    "                if re.search(address, result['formatted_address']):\n",
    "                    print(f\"{result['formatted_address']}\")\n",
    "                    restaurant.loc[index, 'name'] = result['name']\n",
    "                    restaurant.loc[index, 'rating'] = result['rating']\n",
    "                    restaurant.loc[index, \"price_level\"] = result['price_level']\n",
    "         \n",
    "                  \n",
    "    except (KeyError, IndexError):\n",
    "        print(\"Missing field/result... skipping.\")\n",
    "    break\n",
    "    print(\"------------\")\n",
    "\n",
    "\n",
    "\n",
    "    "
   ]
  },
  {
   "cell_type": "code",
   "execution_count": null,
   "metadata": {},
   "outputs": [],
   "source": []
  },
  {
   "cell_type": "code",
   "execution_count": null,
   "metadata": {},
   "outputs": [],
   "source": []
  }
 ],
 "metadata": {
  "kernelspec": {
   "display_name": "Python 3",
   "language": "python",
   "name": "python3"
  },
  "language_info": {
   "codemirror_mode": {
    "name": "ipython",
    "version": 3
   },
   "file_extension": ".py",
   "mimetype": "text/x-python",
   "name": "python",
   "nbconvert_exporter": "python",
   "pygments_lexer": "ipython3",
   "version": "3.7.3"
  }
 },
 "nbformat": 4,
 "nbformat_minor": 2
}
