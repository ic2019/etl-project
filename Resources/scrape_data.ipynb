{
 "cells": [
  {
   "cell_type": "markdown",
   "metadata": {},
   "source": [
    "### Scraping Data for Best Pizza Stores."
   ]
  },
  {
   "cell_type": "markdown",
   "metadata": {},
   "source": [
    "**Importing Libraries**"
   ]
  },
  {
   "cell_type": "code",
   "execution_count": 166,
   "metadata": {},
   "outputs": [],
   "source": [
    "from bs4 import BeautifulSoup\n",
    "import pandas as pd\n",
    "import requests\n",
    "from splinter import Browser\n",
    "import time\n",
    "import json\n",
    "import re"
   ]
  },
  {
   "cell_type": "markdown",
   "metadata": {},
   "source": [
    "**Initializing Functions**"
   ]
  },
  {
   "cell_type": "code",
   "execution_count": 167,
   "metadata": {},
   "outputs": [],
   "source": [
    "# Defining functions to instantiate webdriver, opening browser and closing browser.\n",
    "\n",
    "def init_browser():\n",
    "    # Import Splinter and set the chromedriver path\n",
    "    executable_path = {\"executable_path\": \"chromedriver.exe\"}\n",
    "    browser = Browser(\"chrome\", **executable_path, headless=False)\n",
    "    return browser\n",
    "\n",
    "def open_browser(browser, url):\n",
    "    browser.visit(url)\n",
    "\n",
    "def close_browser(browser):\n",
    "    browser.quit()"
   ]
  },
  {
   "cell_type": "markdown",
   "metadata": {},
   "source": [
    "**Gather html data using Splinter**"
   ]
  },
  {
   "cell_type": "code",
   "execution_count": 168,
   "metadata": {},
   "outputs": [],
   "source": [
    "# Use splinter to get the html page into an object\n",
    "url = \"https://www.thedailymeal.com/eat/best-pizza-every-state-slideshow\"\n",
    "browser = init_browser()\n",
    "open_browser(browser, url)\n",
    "html = browser.html\n",
    "# Closing the browser\n",
    "close_browser(browser)"
   ]
  },
  {
   "cell_type": "markdown",
   "metadata": {},
   "source": [
    "**Scraping the best pizza stores details from the html object using bs4**"
   ]
  },
  {
   "cell_type": "code",
   "execution_count": 177,
   "metadata": {},
   "outputs": [
    {
     "name": "stdout",
     "output_type": "stream",
     "text": [
      "51\n",
      "['Alabama'] ['Bottega Café'] ['Birmingham']\n",
      "['Alabama', 'Alaska'] ['Bottega Café', 'Moose’s Tooth Pub and Pizzeria'] ['Birmingham', 'Anchorage']\n",
      "['Alabama', 'Alaska', 'Arizona'] ['Bottega Café', 'Moose’s Tooth Pub and Pizzeria', 'Pizzeria Bianco'] ['Birmingham', 'Anchorage', 'Phoenix']\n",
      "['Alabama', 'Alaska', 'Arizona', 'Arkansas'] ['Bottega Café', 'Moose’s Tooth Pub and Pizzeria', 'Pizzeria Bianco', 'Wood Stone Craft Pizza & Bar'] ['Birmingham', 'Anchorage', 'Phoenix', 'Fayetteville']\n",
      "['Alabama', 'Alaska', 'Arizona', 'Arkansas', 'California'] ['Bottega Café', 'Moose’s Tooth Pub and Pizzeria', 'Pizzeria Bianco', 'Wood Stone Craft Pizza & Bar', 'Tony’s Pizza Napoletana'] ['Birmingham', 'Anchorage', 'Phoenix', 'Fayetteville', 'San Francisco']\n",
      "['Alabama', 'Alaska', 'Arizona', 'Arkansas', 'California', 'Colorado'] ['Bottega Café', 'Moose’s Tooth Pub and Pizzeria', 'Pizzeria Bianco', 'Wood Stone Craft Pizza & Bar', 'Tony’s Pizza Napoletana', 'Pizzeria Locale'] ['Birmingham', 'Anchorage', 'Phoenix', 'Fayetteville', 'San Francisco', 'Denver']\n",
      "['Alabama', 'Alaska', 'Arizona', 'Arkansas', 'California', 'Colorado', 'Connecticut'] ['Bottega Café', 'Moose’s Tooth Pub and Pizzeria', 'Pizzeria Bianco', 'Wood Stone Craft Pizza & Bar', 'Tony’s Pizza Napoletana', 'Pizzeria Locale', 'Frank Pepe Pizzeria Napoletana'] ['Birmingham', 'Anchorage', 'Phoenix', 'Fayetteville', 'San Francisco', 'Denver', 'New Haven']\n",
      "['Alabama', 'Alaska', 'Arizona', 'Arkansas', 'California', 'Colorado', 'Connecticut', 'Delaware'] ['Bottega Café', 'Moose’s Tooth Pub and Pizzeria', 'Pizzeria Bianco', 'Wood Stone Craft Pizza & Bar', 'Tony’s Pizza Napoletana', 'Pizzeria Locale', 'Frank Pepe Pizzeria Napoletana', 'The Wood Fired Pizza Shop'] ['Birmingham', 'Anchorage', 'Phoenix', 'Fayetteville', 'San Francisco', 'Denver', 'New Haven', 'Newark']\n",
      "['Alabama', 'Alaska', 'Arizona', 'Arkansas', 'California', 'Colorado', 'Connecticut', 'Delaware', 'Florida'] ['Bottega Café', 'Moose’s Tooth Pub and Pizzeria', 'Pizzeria Bianco', 'Wood Stone Craft Pizza & Bar', 'Tony’s Pizza Napoletana', 'Pizzeria Locale', 'Frank Pepe Pizzeria Napoletana', 'The Wood Fired Pizza Shop', 'Scuola Vecchia Pizza e Vino'] ['Birmingham', 'Anchorage', 'Phoenix', 'Fayetteville', 'San Francisco', 'Denver', 'New Haven', 'Newark', 'Delray Beach']\n",
      "['Alabama', 'Alaska', 'Arizona', 'Arkansas', 'California', 'Colorado', 'Connecticut', 'Delaware', 'Florida', 'Georgia'] ['Bottega Café', 'Moose’s Tooth Pub and Pizzeria', 'Pizzeria Bianco', 'Wood Stone Craft Pizza & Bar', 'Tony’s Pizza Napoletana', 'Pizzeria Locale', 'Frank Pepe Pizzeria Napoletana', 'The Wood Fired Pizza Shop', 'Scuola Vecchia Pizza e Vino', 'O4W Pizza'] ['Birmingham', 'Anchorage', 'Phoenix', 'Fayetteville', 'San Francisco', 'Denver', 'New Haven', 'Newark', 'Delray Beach', 'Duluth']\n",
      "['Alabama', 'Alaska', 'Arizona', 'Arkansas', 'California', 'Colorado', 'Connecticut', 'Delaware', 'Florida', 'Georgia', 'Hawaii'] ['Bottega Café', 'Moose’s Tooth Pub and Pizzeria', 'Pizzeria Bianco', 'Wood Stone Craft Pizza & Bar', 'Tony’s Pizza Napoletana', 'Pizzeria Locale', 'Frank Pepe Pizzeria Napoletana', 'The Wood Fired Pizza Shop', 'Scuola Vecchia Pizza e Vino', 'O4W Pizza', 'J.J. Dolan’s'] ['Birmingham', 'Anchorage', 'Phoenix', 'Fayetteville', 'San Francisco', 'Denver', 'New Haven', 'Newark', 'Delray Beach', 'Duluth', 'Honolulu']\n",
      "['Alabama', 'Alaska', 'Arizona', 'Arkansas', 'California', 'Colorado', 'Connecticut', 'Delaware', 'Florida', 'Georgia', 'Hawaii', 'Idaho'] ['Bottega Café', 'Moose’s Tooth Pub and Pizzeria', 'Pizzeria Bianco', 'Wood Stone Craft Pizza & Bar', 'Tony’s Pizza Napoletana', 'Pizzeria Locale', 'Frank Pepe Pizzeria Napoletana', 'The Wood Fired Pizza Shop', 'Scuola Vecchia Pizza e Vino', 'O4W Pizza', 'J.J. Dolan’s', 'Guido’s Original New York Style Pizza'] ['Birmingham', 'Anchorage', 'Phoenix', 'Fayetteville', 'San Francisco', 'Denver', 'New Haven', 'Newark', 'Delray Beach', 'Duluth', 'Honolulu', 'Boise']\n",
      "['Alabama', 'Alaska', 'Arizona', 'Arkansas', 'California', 'Colorado', 'Connecticut', 'Delaware', 'Florida', 'Georgia', 'Hawaii', 'Idaho', 'Illinois'] ['Bottega Café', 'Moose’s Tooth Pub and Pizzeria', 'Pizzeria Bianco', 'Wood Stone Craft Pizza & Bar', 'Tony’s Pizza Napoletana', 'Pizzeria Locale', 'Frank Pepe Pizzeria Napoletana', 'The Wood Fired Pizza Shop', 'Scuola Vecchia Pizza e Vino', 'O4W Pizza', 'J.J. Dolan’s', 'Guido’s Original New York Style Pizza', 'Pequod’s'] ['Birmingham', 'Anchorage', 'Phoenix', 'Fayetteville', 'San Francisco', 'Denver', 'New Haven', 'Newark', 'Delray Beach', 'Duluth', 'Honolulu', 'Boise', 'Chicago']\n",
      "['Alabama', 'Alaska', 'Arizona', 'Arkansas', 'California', 'Colorado', 'Connecticut', 'Delaware', 'Florida', 'Georgia', 'Hawaii', 'Idaho', 'Illinois', 'Indiana'] ['Bottega Café', 'Moose’s Tooth Pub and Pizzeria', 'Pizzeria Bianco', 'Wood Stone Craft Pizza & Bar', 'Tony’s Pizza Napoletana', 'Pizzeria Locale', 'Frank Pepe Pizzeria Napoletana', 'The Wood Fired Pizza Shop', 'Scuola Vecchia Pizza e Vino', 'O4W Pizza', 'J.J. Dolan’s', 'Guido’s Original New York Style Pizza', 'Pequod’s', 'Diavola'] ['Birmingham', 'Anchorage', 'Phoenix', 'Fayetteville', 'San Francisco', 'Denver', 'New Haven', 'Newark', 'Delray Beach', 'Duluth', 'Honolulu', 'Boise', 'Chicago', 'Indianapolis']\n",
      "['Alabama', 'Alaska', 'Arizona', 'Arkansas', 'California', 'Colorado', 'Connecticut', 'Delaware', 'Florida', 'Georgia', 'Hawaii', 'Idaho', 'Illinois', 'Indiana', 'Iowa'] ['Bottega Café', 'Moose’s Tooth Pub and Pizzeria', 'Pizzeria Bianco', 'Wood Stone Craft Pizza & Bar', 'Tony’s Pizza Napoletana', 'Pizzeria Locale', 'Frank Pepe Pizzeria Napoletana', 'The Wood Fired Pizza Shop', 'Scuola Vecchia Pizza e Vino', 'O4W Pizza', 'J.J. Dolan’s', 'Guido’s Original New York Style Pizza', 'Pequod’s', 'Diavola', 'Gusto Pizza Co.'] ['Birmingham', 'Anchorage', 'Phoenix', 'Fayetteville', 'San Francisco', 'Denver', 'New Haven', 'Newark', 'Delray Beach', 'Duluth', 'Honolulu', 'Boise', 'Chicago', 'Indianapolis', 'Des Moines']\n",
      "['Alabama', 'Alaska', 'Arizona', 'Arkansas', 'California', 'Colorado', 'Connecticut', 'Delaware', 'Florida', 'Georgia', 'Hawaii', 'Idaho', 'Illinois', 'Indiana', 'Iowa', 'Kansas'] ['Bottega Café', 'Moose’s Tooth Pub and Pizzeria', 'Pizzeria Bianco', 'Wood Stone Craft Pizza & Bar', 'Tony’s Pizza Napoletana', 'Pizzeria Locale', 'Frank Pepe Pizzeria Napoletana', 'The Wood Fired Pizza Shop', 'Scuola Vecchia Pizza e Vino', 'O4W Pizza', 'J.J. Dolan’s', 'Guido’s Original New York Style Pizza', 'Pequod’s', 'Diavola', 'Gusto Pizza Co.', 'AJ’s NY Pizzeria'] ['Birmingham', 'Anchorage', 'Phoenix', 'Fayetteville', 'San Francisco', 'Denver', 'New Haven', 'Newark', 'Delray Beach', 'Duluth', 'Honolulu', 'Boise', 'Chicago', 'Indianapolis', 'Des Moines', 'Topeka']\n",
      "['Alabama', 'Alaska', 'Arizona', 'Arkansas', 'California', 'Colorado', 'Connecticut', 'Delaware', 'Florida', 'Georgia', 'Hawaii', 'Idaho', 'Illinois', 'Indiana', 'Iowa', 'Kansas', 'Kentucky'] ['Bottega Café', 'Moose’s Tooth Pub and Pizzeria', 'Pizzeria Bianco', 'Wood Stone Craft Pizza & Bar', 'Tony’s Pizza Napoletana', 'Pizzeria Locale', 'Frank Pepe Pizzeria Napoletana', 'The Wood Fired Pizza Shop', 'Scuola Vecchia Pizza e Vino', 'O4W Pizza', 'J.J. Dolan’s', 'Guido’s Original New York Style Pizza', 'Pequod’s', 'Diavola', 'Gusto Pizza Co.', 'AJ’s NY Pizzeria', 'Garage Bar'] ['Birmingham', 'Anchorage', 'Phoenix', 'Fayetteville', 'San Francisco', 'Denver', 'New Haven', 'Newark', 'Delray Beach', 'Duluth', 'Honolulu', 'Boise', 'Chicago', 'Indianapolis', 'Des Moines', 'Topeka', 'Louisville']\n",
      "['Alabama', 'Alaska', 'Arizona', 'Arkansas', 'California', 'Colorado', 'Connecticut', 'Delaware', 'Florida', 'Georgia', 'Hawaii', 'Idaho', 'Illinois', 'Indiana', 'Iowa', 'Kansas', 'Kentucky', 'Louisiana'] ['Bottega Café', 'Moose’s Tooth Pub and Pizzeria', 'Pizzeria Bianco', 'Wood Stone Craft Pizza & Bar', 'Tony’s Pizza Napoletana', 'Pizzeria Locale', 'Frank Pepe Pizzeria Napoletana', 'The Wood Fired Pizza Shop', 'Scuola Vecchia Pizza e Vino', 'O4W Pizza', 'J.J. Dolan’s', 'Guido’s Original New York Style Pizza', 'Pequod’s', 'Diavola', 'Gusto Pizza Co.', 'AJ’s NY Pizzeria', 'Garage Bar', 'Pizza Domenica'] ['Birmingham', 'Anchorage', 'Phoenix', 'Fayetteville', 'San Francisco', 'Denver', 'New Haven', 'Newark', 'Delray Beach', 'Duluth', 'Honolulu', 'Boise', 'Chicago', 'Indianapolis', 'Des Moines', 'Topeka', 'Louisville', 'New Orleans']\n",
      "['Alabama', 'Alaska', 'Arizona', 'Arkansas', 'California', 'Colorado', 'Connecticut', 'Delaware', 'Florida', 'Georgia', 'Hawaii', 'Idaho', 'Illinois', 'Indiana', 'Iowa', 'Kansas', 'Kentucky', 'Louisiana', 'Maine'] ['Bottega Café', 'Moose’s Tooth Pub and Pizzeria', 'Pizzeria Bianco', 'Wood Stone Craft Pizza & Bar', 'Tony’s Pizza Napoletana', 'Pizzeria Locale', 'Frank Pepe Pizzeria Napoletana', 'The Wood Fired Pizza Shop', 'Scuola Vecchia Pizza e Vino', 'O4W Pizza', 'J.J. Dolan’s', 'Guido’s Original New York Style Pizza', 'Pequod’s', 'Diavola', 'Gusto Pizza Co.', 'AJ’s NY Pizzeria', 'Garage Bar', 'Pizza Domenica', 'Micucci Grocery Store'] ['Birmingham', 'Anchorage', 'Phoenix', 'Fayetteville', 'San Francisco', 'Denver', 'New Haven', 'Newark', 'Delray Beach', 'Duluth', 'Honolulu', 'Boise', 'Chicago', 'Indianapolis', 'Des Moines', 'Topeka', 'Louisville', 'New Orleans', 'Portland']\n",
      "['Alabama', 'Alaska', 'Arizona', 'Arkansas', 'California', 'Colorado', 'Connecticut', 'Delaware', 'Florida', 'Georgia', 'Hawaii', 'Idaho', 'Illinois', 'Indiana', 'Iowa', 'Kansas', 'Kentucky', 'Louisiana', 'Maine', 'Maryland'] ['Bottega Café', 'Moose’s Tooth Pub and Pizzeria', 'Pizzeria Bianco', 'Wood Stone Craft Pizza & Bar', 'Tony’s Pizza Napoletana', 'Pizzeria Locale', 'Frank Pepe Pizzeria Napoletana', 'The Wood Fired Pizza Shop', 'Scuola Vecchia Pizza e Vino', 'O4W Pizza', 'J.J. Dolan’s', 'Guido’s Original New York Style Pizza', 'Pequod’s', 'Diavola', 'Gusto Pizza Co.', 'AJ’s NY Pizzeria', 'Garage Bar', 'Pizza Domenica', 'Micucci Grocery Store', 'Inferno'] ['Birmingham', 'Anchorage', 'Phoenix', 'Fayetteville', 'San Francisco', 'Denver', 'New Haven', 'Newark', 'Delray Beach', 'Duluth', 'Honolulu', 'Boise', 'Chicago', 'Indianapolis', 'Des Moines', 'Topeka', 'Louisville', 'New Orleans', 'Portland', 'Darnestown']\n",
      "['Alabama', 'Alaska', 'Arizona', 'Arkansas', 'California', 'Colorado', 'Connecticut', 'Delaware', 'Florida', 'Georgia', 'Hawaii', 'Idaho', 'Illinois', 'Indiana', 'Iowa', 'Kansas', 'Kentucky', 'Louisiana', 'Maine', 'Maryland', 'Massachusetts'] ['Bottega Café', 'Moose’s Tooth Pub and Pizzeria', 'Pizzeria Bianco', 'Wood Stone Craft Pizza & Bar', 'Tony’s Pizza Napoletana', 'Pizzeria Locale', 'Frank Pepe Pizzeria Napoletana', 'The Wood Fired Pizza Shop', 'Scuola Vecchia Pizza e Vino', 'O4W Pizza', 'J.J. Dolan’s', 'Guido’s Original New York Style Pizza', 'Pequod’s', 'Diavola', 'Gusto Pizza Co.', 'AJ’s NY Pizzeria', 'Garage Bar', 'Pizza Domenica', 'Micucci Grocery Store', 'Inferno', 'Area Four'] ['Birmingham', 'Anchorage', 'Phoenix', 'Fayetteville', 'San Francisco', 'Denver', 'New Haven', 'Newark', 'Delray Beach', 'Duluth', 'Honolulu', 'Boise', 'Chicago', 'Indianapolis', 'Des Moines', 'Topeka', 'Louisville', 'New Orleans', 'Portland', 'Darnestown', 'Cambridge']\n",
      "['Alabama', 'Alaska', 'Arizona', 'Arkansas', 'California', 'Colorado', 'Connecticut', 'Delaware', 'Florida', 'Georgia', 'Hawaii', 'Idaho', 'Illinois', 'Indiana', 'Iowa', 'Kansas', 'Kentucky', 'Louisiana', 'Maine', 'Maryland', 'Massachusetts', 'Michigan'] ['Bottega Café', 'Moose’s Tooth Pub and Pizzeria', 'Pizzeria Bianco', 'Wood Stone Craft Pizza & Bar', 'Tony’s Pizza Napoletana', 'Pizzeria Locale', 'Frank Pepe Pizzeria Napoletana', 'The Wood Fired Pizza Shop', 'Scuola Vecchia Pizza e Vino', 'O4W Pizza', 'J.J. Dolan’s', 'Guido’s Original New York Style Pizza', 'Pequod’s', 'Diavola', 'Gusto Pizza Co.', 'AJ’s NY Pizzeria', 'Garage Bar', 'Pizza Domenica', 'Micucci Grocery Store', 'Inferno', 'Area Four', 'Buddy’s Pizza'] ['Birmingham', 'Anchorage', 'Phoenix', 'Fayetteville', 'San Francisco', 'Denver', 'New Haven', 'Newark', 'Delray Beach', 'Duluth', 'Honolulu', 'Boise', 'Chicago', 'Indianapolis', 'Des Moines', 'Topeka', 'Louisville', 'New Orleans', 'Portland', 'Darnestown', 'Cambridge', 'Detroit']\n",
      "['Alabama', 'Alaska', 'Arizona', 'Arkansas', 'California', 'Colorado', 'Connecticut', 'Delaware', 'Florida', 'Georgia', 'Hawaii', 'Idaho', 'Illinois', 'Indiana', 'Iowa', 'Kansas', 'Kentucky', 'Louisiana', 'Maine', 'Maryland', 'Massachusetts', 'Michigan', 'Minnesota'] ['Bottega Café', 'Moose’s Tooth Pub and Pizzeria', 'Pizzeria Bianco', 'Wood Stone Craft Pizza & Bar', 'Tony’s Pizza Napoletana', 'Pizzeria Locale', 'Frank Pepe Pizzeria Napoletana', 'The Wood Fired Pizza Shop', 'Scuola Vecchia Pizza e Vino', 'O4W Pizza', 'J.J. Dolan’s', 'Guido’s Original New York Style Pizza', 'Pequod’s', 'Diavola', 'Gusto Pizza Co.', 'AJ’s NY Pizzeria', 'Garage Bar', 'Pizza Domenica', 'Micucci Grocery Store', 'Inferno', 'Area Four', 'Buddy’s Pizza', 'Pizzeria Lola'] ['Birmingham', 'Anchorage', 'Phoenix', 'Fayetteville', 'San Francisco', 'Denver', 'New Haven', 'Newark', 'Delray Beach', 'Duluth', 'Honolulu', 'Boise', 'Chicago', 'Indianapolis', 'Des Moines', 'Topeka', 'Louisville', 'New Orleans', 'Portland', 'Darnestown', 'Cambridge', 'Detroit', 'Minneapolis']\n",
      "['Alabama', 'Alaska', 'Arizona', 'Arkansas', 'California', 'Colorado', 'Connecticut', 'Delaware', 'Florida', 'Georgia', 'Hawaii', 'Idaho', 'Illinois', 'Indiana', 'Iowa', 'Kansas', 'Kentucky', 'Louisiana', 'Maine', 'Maryland', 'Massachusetts', 'Michigan', 'Minnesota', 'Mississippi'] ['Bottega Café', 'Moose’s Tooth Pub and Pizzeria', 'Pizzeria Bianco', 'Wood Stone Craft Pizza & Bar', 'Tony’s Pizza Napoletana', 'Pizzeria Locale', 'Frank Pepe Pizzeria Napoletana', 'The Wood Fired Pizza Shop', 'Scuola Vecchia Pizza e Vino', 'O4W Pizza', 'J.J. Dolan’s', 'Guido’s Original New York Style Pizza', 'Pequod’s', 'Diavola', 'Gusto Pizza Co.', 'AJ’s NY Pizzeria', 'Garage Bar', 'Pizza Domenica', 'Micucci Grocery Store', 'Inferno', 'Area Four', 'Buddy’s Pizza', 'Pizzeria Lola', 'TriBecca Allie Café'] ['Birmingham', 'Anchorage', 'Phoenix', 'Fayetteville', 'San Francisco', 'Denver', 'New Haven', 'Newark', 'Delray Beach', 'Duluth', 'Honolulu', 'Boise', 'Chicago', 'Indianapolis', 'Des Moines', 'Topeka', 'Louisville', 'New Orleans', 'Portland', 'Darnestown', 'Cambridge', 'Detroit', 'Minneapolis', 'Sardis']\n",
      "['Alabama', 'Alaska', 'Arizona', 'Arkansas', 'California', 'Colorado', 'Connecticut', 'Delaware', 'Florida', 'Georgia', 'Hawaii', 'Idaho', 'Illinois', 'Indiana', 'Iowa', 'Kansas', 'Kentucky', 'Louisiana', 'Maine', 'Maryland', 'Massachusetts', 'Michigan', 'Minnesota', 'Mississippi', 'Missouri'] ['Bottega Café', 'Moose’s Tooth Pub and Pizzeria', 'Pizzeria Bianco', 'Wood Stone Craft Pizza & Bar', 'Tony’s Pizza Napoletana', 'Pizzeria Locale', 'Frank Pepe Pizzeria Napoletana', 'The Wood Fired Pizza Shop', 'Scuola Vecchia Pizza e Vino', 'O4W Pizza', 'J.J. Dolan’s', 'Guido’s Original New York Style Pizza', 'Pequod’s', 'Diavola', 'Gusto Pizza Co.', 'AJ’s NY Pizzeria', 'Garage Bar', 'Pizza Domenica', 'Micucci Grocery Store', 'Inferno', 'Area Four', 'Buddy’s Pizza', 'Pizzeria Lola', 'TriBecca Allie Café', 'Imo’s'] ['Birmingham', 'Anchorage', 'Phoenix', 'Fayetteville', 'San Francisco', 'Denver', 'New Haven', 'Newark', 'Delray Beach', 'Duluth', 'Honolulu', 'Boise', 'Chicago', 'Indianapolis', 'Des Moines', 'Topeka', 'Louisville', 'New Orleans', 'Portland', 'Darnestown', 'Cambridge', 'Detroit', 'Minneapolis', 'Sardis', 'St. Louis']\n",
      "['Alabama', 'Alaska', 'Arizona', 'Arkansas', 'California', 'Colorado', 'Connecticut', 'Delaware', 'Florida', 'Georgia', 'Hawaii', 'Idaho', 'Illinois', 'Indiana', 'Iowa', 'Kansas', 'Kentucky', 'Louisiana', 'Maine', 'Maryland', 'Massachusetts', 'Michigan', 'Minnesota', 'Mississippi', 'Missouri', 'Montana'] ['Bottega Café', 'Moose’s Tooth Pub and Pizzeria', 'Pizzeria Bianco', 'Wood Stone Craft Pizza & Bar', 'Tony’s Pizza Napoletana', 'Pizzeria Locale', 'Frank Pepe Pizzeria Napoletana', 'The Wood Fired Pizza Shop', 'Scuola Vecchia Pizza e Vino', 'O4W Pizza', 'J.J. Dolan’s', 'Guido’s Original New York Style Pizza', 'Pequod’s', 'Diavola', 'Gusto Pizza Co.', 'AJ’s NY Pizzeria', 'Garage Bar', 'Pizza Domenica', 'Micucci Grocery Store', 'Inferno', 'Area Four', 'Buddy’s Pizza', 'Pizzeria Lola', 'TriBecca Allie Café', 'Imo’s', 'Eugene’s'] ['Birmingham', 'Anchorage', 'Phoenix', 'Fayetteville', 'San Francisco', 'Denver', 'New Haven', 'Newark', 'Delray Beach', 'Duluth', 'Honolulu', 'Boise', 'Chicago', 'Indianapolis', 'Des Moines', 'Topeka', 'Louisville', 'New Orleans', 'Portland', 'Darnestown', 'Cambridge', 'Detroit', 'Minneapolis', 'Sardis', 'St. Louis', 'Glasgow']\n",
      "['Alabama', 'Alaska', 'Arizona', 'Arkansas', 'California', 'Colorado', 'Connecticut', 'Delaware', 'Florida', 'Georgia', 'Hawaii', 'Idaho', 'Illinois', 'Indiana', 'Iowa', 'Kansas', 'Kentucky', 'Louisiana', 'Maine', 'Maryland', 'Massachusetts', 'Michigan', 'Minnesota', 'Mississippi', 'Missouri', 'Montana', 'Nebraska'] ['Bottega Café', 'Moose’s Tooth Pub and Pizzeria', 'Pizzeria Bianco', 'Wood Stone Craft Pizza & Bar', 'Tony’s Pizza Napoletana', 'Pizzeria Locale', 'Frank Pepe Pizzeria Napoletana', 'The Wood Fired Pizza Shop', 'Scuola Vecchia Pizza e Vino', 'O4W Pizza', 'J.J. Dolan’s', 'Guido’s Original New York Style Pizza', 'Pequod’s', 'Diavola', 'Gusto Pizza Co.', 'AJ’s NY Pizzeria', 'Garage Bar', 'Pizza Domenica', 'Micucci Grocery Store', 'Inferno', 'Area Four', 'Buddy’s Pizza', 'Pizzeria Lola', 'TriBecca Allie Café', 'Imo’s', 'Eugene’s', 'Zio’s'] ['Birmingham', 'Anchorage', 'Phoenix', 'Fayetteville', 'San Francisco', 'Denver', 'New Haven', 'Newark', 'Delray Beach', 'Duluth', 'Honolulu', 'Boise', 'Chicago', 'Indianapolis', 'Des Moines', 'Topeka', 'Louisville', 'New Orleans', 'Portland', 'Darnestown', 'Cambridge', 'Detroit', 'Minneapolis', 'Sardis', 'St. Louis', 'Glasgow', 'Omaha']\n",
      "['Alabama', 'Alaska', 'Arizona', 'Arkansas', 'California', 'Colorado', 'Connecticut', 'Delaware', 'Florida', 'Georgia', 'Hawaii', 'Idaho', 'Illinois', 'Indiana', 'Iowa', 'Kansas', 'Kentucky', 'Louisiana', 'Maine', 'Maryland', 'Massachusetts', 'Michigan', 'Minnesota', 'Mississippi', 'Missouri', 'Montana', 'Nebraska', 'Nevada'] ['Bottega Café', 'Moose’s Tooth Pub and Pizzeria', 'Pizzeria Bianco', 'Wood Stone Craft Pizza & Bar', 'Tony’s Pizza Napoletana', 'Pizzeria Locale', 'Frank Pepe Pizzeria Napoletana', 'The Wood Fired Pizza Shop', 'Scuola Vecchia Pizza e Vino', 'O4W Pizza', 'J.J. Dolan’s', 'Guido’s Original New York Style Pizza', 'Pequod’s', 'Diavola', 'Gusto Pizza Co.', 'AJ’s NY Pizzeria', 'Garage Bar', 'Pizza Domenica', 'Micucci Grocery Store', 'Inferno', 'Area Four', 'Buddy’s Pizza', 'Pizzeria Lola', 'TriBecca Allie Café', 'Imo’s', 'Eugene’s', 'Zio’s', 'Pizza Rock'] ['Birmingham', 'Anchorage', 'Phoenix', 'Fayetteville', 'San Francisco', 'Denver', 'New Haven', 'Newark', 'Delray Beach', 'Duluth', 'Honolulu', 'Boise', 'Chicago', 'Indianapolis', 'Des Moines', 'Topeka', 'Louisville', 'New Orleans', 'Portland', 'Darnestown', 'Cambridge', 'Detroit', 'Minneapolis', 'Sardis', 'St. Louis', 'Glasgow', 'Omaha', 'Las Vegas']\n",
      "['Alabama', 'Alaska', 'Arizona', 'Arkansas', 'California', 'Colorado', 'Connecticut', 'Delaware', 'Florida', 'Georgia', 'Hawaii', 'Idaho', 'Illinois', 'Indiana', 'Iowa', 'Kansas', 'Kentucky', 'Louisiana', 'Maine', 'Maryland', 'Massachusetts', 'Michigan', 'Minnesota', 'Mississippi', 'Missouri', 'Montana', 'Nebraska', 'Nevada', 'New Hampshire'] ['Bottega Café', 'Moose’s Tooth Pub and Pizzeria', 'Pizzeria Bianco', 'Wood Stone Craft Pizza & Bar', 'Tony’s Pizza Napoletana', 'Pizzeria Locale', 'Frank Pepe Pizzeria Napoletana', 'The Wood Fired Pizza Shop', 'Scuola Vecchia Pizza e Vino', 'O4W Pizza', 'J.J. Dolan’s', 'Guido’s Original New York Style Pizza', 'Pequod’s', 'Diavola', 'Gusto Pizza Co.', 'AJ’s NY Pizzeria', 'Garage Bar', 'Pizza Domenica', 'Micucci Grocery Store', 'Inferno', 'Area Four', 'Buddy’s Pizza', 'Pizzeria Lola', 'TriBecca Allie Café', 'Imo’s', 'Eugene’s', 'Zio’s', 'Pizza Rock', 'Tilton House of Pizza'] ['Birmingham', 'Anchorage', 'Phoenix', 'Fayetteville', 'San Francisco', 'Denver', 'New Haven', 'Newark', 'Delray Beach', 'Duluth', 'Honolulu', 'Boise', 'Chicago', 'Indianapolis', 'Des Moines', 'Topeka', 'Louisville', 'New Orleans', 'Portland', 'Darnestown', 'Cambridge', 'Detroit', 'Minneapolis', 'Sardis', 'St. Louis', 'Glasgow', 'Omaha', 'Las Vegas', 'Tilton']\n",
      "['Alabama', 'Alaska', 'Arizona', 'Arkansas', 'California', 'Colorado', 'Connecticut', 'Delaware', 'Florida', 'Georgia', 'Hawaii', 'Idaho', 'Illinois', 'Indiana', 'Iowa', 'Kansas', 'Kentucky', 'Louisiana', 'Maine', 'Maryland', 'Massachusetts', 'Michigan', 'Minnesota', 'Mississippi', 'Missouri', 'Montana', 'Nebraska', 'Nevada', 'New Hampshire', 'New Jersey'] ['Bottega Café', 'Moose’s Tooth Pub and Pizzeria', 'Pizzeria Bianco', 'Wood Stone Craft Pizza & Bar', 'Tony’s Pizza Napoletana', 'Pizzeria Locale', 'Frank Pepe Pizzeria Napoletana', 'The Wood Fired Pizza Shop', 'Scuola Vecchia Pizza e Vino', 'O4W Pizza', 'J.J. Dolan’s', 'Guido’s Original New York Style Pizza', 'Pequod’s', 'Diavola', 'Gusto Pizza Co.', 'AJ’s NY Pizzeria', 'Garage Bar', 'Pizza Domenica', 'Micucci Grocery Store', 'Inferno', 'Area Four', 'Buddy’s Pizza', 'Pizzeria Lola', 'TriBecca Allie Café', 'Imo’s', 'Eugene’s', 'Zio’s', 'Pizza Rock', 'Tilton House of Pizza', 'Razza'] ['Birmingham', 'Anchorage', 'Phoenix', 'Fayetteville', 'San Francisco', 'Denver', 'New Haven', 'Newark', 'Delray Beach', 'Duluth', 'Honolulu', 'Boise', 'Chicago', 'Indianapolis', 'Des Moines', 'Topeka', 'Louisville', 'New Orleans', 'Portland', 'Darnestown', 'Cambridge', 'Detroit', 'Minneapolis', 'Sardis', 'St. Louis', 'Glasgow', 'Omaha', 'Las Vegas', 'Tilton', 'Jersey City']\n",
      "['Alabama', 'Alaska', 'Arizona', 'Arkansas', 'California', 'Colorado', 'Connecticut', 'Delaware', 'Florida', 'Georgia', 'Hawaii', 'Idaho', 'Illinois', 'Indiana', 'Iowa', 'Kansas', 'Kentucky', 'Louisiana', 'Maine', 'Maryland', 'Massachusetts', 'Michigan', 'Minnesota', 'Mississippi', 'Missouri', 'Montana', 'Nebraska', 'Nevada', 'New Hampshire', 'New Jersey', 'New Mexico'] ['Bottega Café', 'Moose’s Tooth Pub and Pizzeria', 'Pizzeria Bianco', 'Wood Stone Craft Pizza & Bar', 'Tony’s Pizza Napoletana', 'Pizzeria Locale', 'Frank Pepe Pizzeria Napoletana', 'The Wood Fired Pizza Shop', 'Scuola Vecchia Pizza e Vino', 'O4W Pizza', 'J.J. Dolan’s', 'Guido’s Original New York Style Pizza', 'Pequod’s', 'Diavola', 'Gusto Pizza Co.', 'AJ’s NY Pizzeria', 'Garage Bar', 'Pizza Domenica', 'Micucci Grocery Store', 'Inferno', 'Area Four', 'Buddy’s Pizza', 'Pizzeria Lola', 'TriBecca Allie Café', 'Imo’s', 'Eugene’s', 'Zio’s', 'Pizza Rock', 'Tilton House of Pizza', 'Razza', 'Il Vicino Wood Oven Pizza'] ['Birmingham', 'Anchorage', 'Phoenix', 'Fayetteville', 'San Francisco', 'Denver', 'New Haven', 'Newark', 'Delray Beach', 'Duluth', 'Honolulu', 'Boise', 'Chicago', 'Indianapolis', 'Des Moines', 'Topeka', 'Louisville', 'New Orleans', 'Portland', 'Darnestown', 'Cambridge', 'Detroit', 'Minneapolis', 'Sardis', 'St. Louis', 'Glasgow', 'Omaha', 'Las Vegas', 'Tilton', 'Jersey City', 'Albuquerque']\n",
      "['Alabama', 'Alaska', 'Arizona', 'Arkansas', 'California', 'Colorado', 'Connecticut', 'Delaware', 'Florida', 'Georgia', 'Hawaii', 'Idaho', 'Illinois', 'Indiana', 'Iowa', 'Kansas', 'Kentucky', 'Louisiana', 'Maine', 'Maryland', 'Massachusetts', 'Michigan', 'Minnesota', 'Mississippi', 'Missouri', 'Montana', 'Nebraska', 'Nevada', 'New Hampshire', 'New Jersey', 'New Mexico', 'New York'] ['Bottega Café', 'Moose’s Tooth Pub and Pizzeria', 'Pizzeria Bianco', 'Wood Stone Craft Pizza & Bar', 'Tony’s Pizza Napoletana', 'Pizzeria Locale', 'Frank Pepe Pizzeria Napoletana', 'The Wood Fired Pizza Shop', 'Scuola Vecchia Pizza e Vino', 'O4W Pizza', 'J.J. Dolan’s', 'Guido’s Original New York Style Pizza', 'Pequod’s', 'Diavola', 'Gusto Pizza Co.', 'AJ’s NY Pizzeria', 'Garage Bar', 'Pizza Domenica', 'Micucci Grocery Store', 'Inferno', 'Area Four', 'Buddy’s Pizza', 'Pizzeria Lola', 'TriBecca Allie Café', 'Imo’s', 'Eugene’s', 'Zio’s', 'Pizza Rock', 'Tilton House of Pizza', 'Razza', 'Il Vicino Wood Oven Pizza', 'John’s of Bleecker Street'] ['Birmingham', 'Anchorage', 'Phoenix', 'Fayetteville', 'San Francisco', 'Denver', 'New Haven', 'Newark', 'Delray Beach', 'Duluth', 'Honolulu', 'Boise', 'Chicago', 'Indianapolis', 'Des Moines', 'Topeka', 'Louisville', 'New Orleans', 'Portland', 'Darnestown', 'Cambridge', 'Detroit', 'Minneapolis', 'Sardis', 'St. Louis', 'Glasgow', 'Omaha', 'Las Vegas', 'Tilton', 'Jersey City', 'Albuquerque', 'New York City']\n",
      "['Alabama', 'Alaska', 'Arizona', 'Arkansas', 'California', 'Colorado', 'Connecticut', 'Delaware', 'Florida', 'Georgia', 'Hawaii', 'Idaho', 'Illinois', 'Indiana', 'Iowa', 'Kansas', 'Kentucky', 'Louisiana', 'Maine', 'Maryland', 'Massachusetts', 'Michigan', 'Minnesota', 'Mississippi', 'Missouri', 'Montana', 'Nebraska', 'Nevada', 'New Hampshire', 'New Jersey', 'New Mexico', 'New York', 'North Carolina'] ['Bottega Café', 'Moose’s Tooth Pub and Pizzeria', 'Pizzeria Bianco', 'Wood Stone Craft Pizza & Bar', 'Tony’s Pizza Napoletana', 'Pizzeria Locale', 'Frank Pepe Pizzeria Napoletana', 'The Wood Fired Pizza Shop', 'Scuola Vecchia Pizza e Vino', 'O4W Pizza', 'J.J. Dolan’s', 'Guido’s Original New York Style Pizza', 'Pequod’s', 'Diavola', 'Gusto Pizza Co.', 'AJ’s NY Pizzeria', 'Garage Bar', 'Pizza Domenica', 'Micucci Grocery Store', 'Inferno', 'Area Four', 'Buddy’s Pizza', 'Pizzeria Lola', 'TriBecca Allie Café', 'Imo’s', 'Eugene’s', 'Zio’s', 'Pizza Rock', 'Tilton House of Pizza', 'Razza', 'Il Vicino Wood Oven Pizza', 'John’s of Bleecker Street', 'Pizzeria Omaggio'] ['Birmingham', 'Anchorage', 'Phoenix', 'Fayetteville', 'San Francisco', 'Denver', 'New Haven', 'Newark', 'Delray Beach', 'Duluth', 'Honolulu', 'Boise', 'Chicago', 'Indianapolis', 'Des Moines', 'Topeka', 'Louisville', 'New Orleans', 'Portland', 'Darnestown', 'Cambridge', 'Detroit', 'Minneapolis', 'Sardis', 'St. Louis', 'Glasgow', 'Omaha', 'Las Vegas', 'Tilton', 'Jersey City', 'Albuquerque', 'New York City', 'Charlotte']\n",
      "['Alabama', 'Alaska', 'Arizona', 'Arkansas', 'California', 'Colorado', 'Connecticut', 'Delaware', 'Florida', 'Georgia', 'Hawaii', 'Idaho', 'Illinois', 'Indiana', 'Iowa', 'Kansas', 'Kentucky', 'Louisiana', 'Maine', 'Maryland', 'Massachusetts', 'Michigan', 'Minnesota', 'Mississippi', 'Missouri', 'Montana', 'Nebraska', 'Nevada', 'New Hampshire', 'New Jersey', 'New Mexico', 'New York', 'North Carolina', 'North Dakota'] ['Bottega Café', 'Moose’s Tooth Pub and Pizzeria', 'Pizzeria Bianco', 'Wood Stone Craft Pizza & Bar', 'Tony’s Pizza Napoletana', 'Pizzeria Locale', 'Frank Pepe Pizzeria Napoletana', 'The Wood Fired Pizza Shop', 'Scuola Vecchia Pizza e Vino', 'O4W Pizza', 'J.J. Dolan’s', 'Guido’s Original New York Style Pizza', 'Pequod’s', 'Diavola', 'Gusto Pizza Co.', 'AJ’s NY Pizzeria', 'Garage Bar', 'Pizza Domenica', 'Micucci Grocery Store', 'Inferno', 'Area Four', 'Buddy’s Pizza', 'Pizzeria Lola', 'TriBecca Allie Café', 'Imo’s', 'Eugene’s', 'Zio’s', 'Pizza Rock', 'Tilton House of Pizza', 'Razza', 'Il Vicino Wood Oven Pizza', 'John’s of Bleecker Street', 'Pizzeria Omaggio', 'Blackbird Woodfire'] ['Birmingham', 'Anchorage', 'Phoenix', 'Fayetteville', 'San Francisco', 'Denver', 'New Haven', 'Newark', 'Delray Beach', 'Duluth', 'Honolulu', 'Boise', 'Chicago', 'Indianapolis', 'Des Moines', 'Topeka', 'Louisville', 'New Orleans', 'Portland', 'Darnestown', 'Cambridge', 'Detroit', 'Minneapolis', 'Sardis', 'St. Louis', 'Glasgow', 'Omaha', 'Las Vegas', 'Tilton', 'Jersey City', 'Albuquerque', 'New York City', 'Charlotte', 'Fargo']\n",
      "['Alabama', 'Alaska', 'Arizona', 'Arkansas', 'California', 'Colorado', 'Connecticut', 'Delaware', 'Florida', 'Georgia', 'Hawaii', 'Idaho', 'Illinois', 'Indiana', 'Iowa', 'Kansas', 'Kentucky', 'Louisiana', 'Maine', 'Maryland', 'Massachusetts', 'Michigan', 'Minnesota', 'Mississippi', 'Missouri', 'Montana', 'Nebraska', 'Nevada', 'New Hampshire', 'New Jersey', 'New Mexico', 'New York', 'North Carolina', 'North Dakota', 'Ohio'] ['Bottega Café', 'Moose’s Tooth Pub and Pizzeria', 'Pizzeria Bianco', 'Wood Stone Craft Pizza & Bar', 'Tony’s Pizza Napoletana', 'Pizzeria Locale', 'Frank Pepe Pizzeria Napoletana', 'The Wood Fired Pizza Shop', 'Scuola Vecchia Pizza e Vino', 'O4W Pizza', 'J.J. Dolan’s', 'Guido’s Original New York Style Pizza', 'Pequod’s', 'Diavola', 'Gusto Pizza Co.', 'AJ’s NY Pizzeria', 'Garage Bar', 'Pizza Domenica', 'Micucci Grocery Store', 'Inferno', 'Area Four', 'Buddy’s Pizza', 'Pizzeria Lola', 'TriBecca Allie Café', 'Imo’s', 'Eugene’s', 'Zio’s', 'Pizza Rock', 'Tilton House of Pizza', 'Razza', 'Il Vicino Wood Oven Pizza', 'John’s of Bleecker Street', 'Pizzeria Omaggio', 'Blackbird Woodfire', 'Crust'] ['Birmingham', 'Anchorage', 'Phoenix', 'Fayetteville', 'San Francisco', 'Denver', 'New Haven', 'Newark', 'Delray Beach', 'Duluth', 'Honolulu', 'Boise', 'Chicago', 'Indianapolis', 'Des Moines', 'Topeka', 'Louisville', 'New Orleans', 'Portland', 'Darnestown', 'Cambridge', 'Detroit', 'Minneapolis', 'Sardis', 'St. Louis', 'Glasgow', 'Omaha', 'Las Vegas', 'Tilton', 'Jersey City', 'Albuquerque', 'New York City', 'Charlotte', 'Fargo', 'Cleveland']\n",
      "['Alabama', 'Alaska', 'Arizona', 'Arkansas', 'California', 'Colorado', 'Connecticut', 'Delaware', 'Florida', 'Georgia', 'Hawaii', 'Idaho', 'Illinois', 'Indiana', 'Iowa', 'Kansas', 'Kentucky', 'Louisiana', 'Maine', 'Maryland', 'Massachusetts', 'Michigan', 'Minnesota', 'Mississippi', 'Missouri', 'Montana', 'Nebraska', 'Nevada', 'New Hampshire', 'New Jersey', 'New Mexico', 'New York', 'North Carolina', 'North Dakota', 'Ohio', 'Oklahoma'] ['Bottega Café', 'Moose’s Tooth Pub and Pizzeria', 'Pizzeria Bianco', 'Wood Stone Craft Pizza & Bar', 'Tony’s Pizza Napoletana', 'Pizzeria Locale', 'Frank Pepe Pizzeria Napoletana', 'The Wood Fired Pizza Shop', 'Scuola Vecchia Pizza e Vino', 'O4W Pizza', 'J.J. Dolan’s', 'Guido’s Original New York Style Pizza', 'Pequod’s', 'Diavola', 'Gusto Pizza Co.', 'AJ’s NY Pizzeria', 'Garage Bar', 'Pizza Domenica', 'Micucci Grocery Store', 'Inferno', 'Area Four', 'Buddy’s Pizza', 'Pizzeria Lola', 'TriBecca Allie Café', 'Imo’s', 'Eugene’s', 'Zio’s', 'Pizza Rock', 'Tilton House of Pizza', 'Razza', 'Il Vicino Wood Oven Pizza', 'John’s of Bleecker Street', 'Pizzeria Omaggio', 'Blackbird Woodfire', 'Crust', 'Empire Slice House'] ['Birmingham', 'Anchorage', 'Phoenix', 'Fayetteville', 'San Francisco', 'Denver', 'New Haven', 'Newark', 'Delray Beach', 'Duluth', 'Honolulu', 'Boise', 'Chicago', 'Indianapolis', 'Des Moines', 'Topeka', 'Louisville', 'New Orleans', 'Portland', 'Darnestown', 'Cambridge', 'Detroit', 'Minneapolis', 'Sardis', 'St. Louis', 'Glasgow', 'Omaha', 'Las Vegas', 'Tilton', 'Jersey City', 'Albuquerque', 'New York City', 'Charlotte', 'Fargo', 'Cleveland', 'Oklahoma City']\n",
      "['Alabama', 'Alaska', 'Arizona', 'Arkansas', 'California', 'Colorado', 'Connecticut', 'Delaware', 'Florida', 'Georgia', 'Hawaii', 'Idaho', 'Illinois', 'Indiana', 'Iowa', 'Kansas', 'Kentucky', 'Louisiana', 'Maine', 'Maryland', 'Massachusetts', 'Michigan', 'Minnesota', 'Mississippi', 'Missouri', 'Montana', 'Nebraska', 'Nevada', 'New Hampshire', 'New Jersey', 'New Mexico', 'New York', 'North Carolina', 'North Dakota', 'Ohio', 'Oklahoma', 'Oregon'] ['Bottega Café', 'Moose’s Tooth Pub and Pizzeria', 'Pizzeria Bianco', 'Wood Stone Craft Pizza & Bar', 'Tony’s Pizza Napoletana', 'Pizzeria Locale', 'Frank Pepe Pizzeria Napoletana', 'The Wood Fired Pizza Shop', 'Scuola Vecchia Pizza e Vino', 'O4W Pizza', 'J.J. Dolan’s', 'Guido’s Original New York Style Pizza', 'Pequod’s', 'Diavola', 'Gusto Pizza Co.', 'AJ’s NY Pizzeria', 'Garage Bar', 'Pizza Domenica', 'Micucci Grocery Store', 'Inferno', 'Area Four', 'Buddy’s Pizza', 'Pizzeria Lola', 'TriBecca Allie Café', 'Imo’s', 'Eugene’s', 'Zio’s', 'Pizza Rock', 'Tilton House of Pizza', 'Razza', 'Il Vicino Wood Oven Pizza', 'John’s of Bleecker Street', 'Pizzeria Omaggio', 'Blackbird Woodfire', 'Crust', 'Empire Slice House', 'Ken’s Artisan Pizza'] ['Birmingham', 'Anchorage', 'Phoenix', 'Fayetteville', 'San Francisco', 'Denver', 'New Haven', 'Newark', 'Delray Beach', 'Duluth', 'Honolulu', 'Boise', 'Chicago', 'Indianapolis', 'Des Moines', 'Topeka', 'Louisville', 'New Orleans', 'Portland', 'Darnestown', 'Cambridge', 'Detroit', 'Minneapolis', 'Sardis', 'St. Louis', 'Glasgow', 'Omaha', 'Las Vegas', 'Tilton', 'Jersey City', 'Albuquerque', 'New York City', 'Charlotte', 'Fargo', 'Cleveland', 'Oklahoma City', 'Portland']\n",
      "['Alabama', 'Alaska', 'Arizona', 'Arkansas', 'California', 'Colorado', 'Connecticut', 'Delaware', 'Florida', 'Georgia', 'Hawaii', 'Idaho', 'Illinois', 'Indiana', 'Iowa', 'Kansas', 'Kentucky', 'Louisiana', 'Maine', 'Maryland', 'Massachusetts', 'Michigan', 'Minnesota', 'Mississippi', 'Missouri', 'Montana', 'Nebraska', 'Nevada', 'New Hampshire', 'New Jersey', 'New Mexico', 'New York', 'North Carolina', 'North Dakota', 'Ohio', 'Oklahoma', 'Oregon', 'Pennsylvania'] ['Bottega Café', 'Moose’s Tooth Pub and Pizzeria', 'Pizzeria Bianco', 'Wood Stone Craft Pizza & Bar', 'Tony’s Pizza Napoletana', 'Pizzeria Locale', 'Frank Pepe Pizzeria Napoletana', 'The Wood Fired Pizza Shop', 'Scuola Vecchia Pizza e Vino', 'O4W Pizza', 'J.J. Dolan’s', 'Guido’s Original New York Style Pizza', 'Pequod’s', 'Diavola', 'Gusto Pizza Co.', 'AJ’s NY Pizzeria', 'Garage Bar', 'Pizza Domenica', 'Micucci Grocery Store', 'Inferno', 'Area Four', 'Buddy’s Pizza', 'Pizzeria Lola', 'TriBecca Allie Café', 'Imo’s', 'Eugene’s', 'Zio’s', 'Pizza Rock', 'Tilton House of Pizza', 'Razza', 'Il Vicino Wood Oven Pizza', 'John’s of Bleecker Street', 'Pizzeria Omaggio', 'Blackbird Woodfire', 'Crust', 'Empire Slice House', 'Ken’s Artisan Pizza', 'Pizzeria Vetri'] ['Birmingham', 'Anchorage', 'Phoenix', 'Fayetteville', 'San Francisco', 'Denver', 'New Haven', 'Newark', 'Delray Beach', 'Duluth', 'Honolulu', 'Boise', 'Chicago', 'Indianapolis', 'Des Moines', 'Topeka', 'Louisville', 'New Orleans', 'Portland', 'Darnestown', 'Cambridge', 'Detroit', 'Minneapolis', 'Sardis', 'St. Louis', 'Glasgow', 'Omaha', 'Las Vegas', 'Tilton', 'Jersey City', 'Albuquerque', 'New York City', 'Charlotte', 'Fargo', 'Cleveland', 'Oklahoma City', 'Portland', 'Philadelphia']\n",
      "['Alabama', 'Alaska', 'Arizona', 'Arkansas', 'California', 'Colorado', 'Connecticut', 'Delaware', 'Florida', 'Georgia', 'Hawaii', 'Idaho', 'Illinois', 'Indiana', 'Iowa', 'Kansas', 'Kentucky', 'Louisiana', 'Maine', 'Maryland', 'Massachusetts', 'Michigan', 'Minnesota', 'Mississippi', 'Missouri', 'Montana', 'Nebraska', 'Nevada', 'New Hampshire', 'New Jersey', 'New Mexico', 'New York', 'North Carolina', 'North Dakota', 'Ohio', 'Oklahoma', 'Oregon', 'Pennsylvania', 'Rhode Island'] ['Bottega Café', 'Moose’s Tooth Pub and Pizzeria', 'Pizzeria Bianco', 'Wood Stone Craft Pizza & Bar', 'Tony’s Pizza Napoletana', 'Pizzeria Locale', 'Frank Pepe Pizzeria Napoletana', 'The Wood Fired Pizza Shop', 'Scuola Vecchia Pizza e Vino', 'O4W Pizza', 'J.J. Dolan’s', 'Guido’s Original New York Style Pizza', 'Pequod’s', 'Diavola', 'Gusto Pizza Co.', 'AJ’s NY Pizzeria', 'Garage Bar', 'Pizza Domenica', 'Micucci Grocery Store', 'Inferno', 'Area Four', 'Buddy’s Pizza', 'Pizzeria Lola', 'TriBecca Allie Café', 'Imo’s', 'Eugene’s', 'Zio’s', 'Pizza Rock', 'Tilton House of Pizza', 'Razza', 'Il Vicino Wood Oven Pizza', 'John’s of Bleecker Street', 'Pizzeria Omaggio', 'Blackbird Woodfire', 'Crust', 'Empire Slice House', 'Ken’s Artisan Pizza', 'Pizzeria Vetri', 'Al Forno'] ['Birmingham', 'Anchorage', 'Phoenix', 'Fayetteville', 'San Francisco', 'Denver', 'New Haven', 'Newark', 'Delray Beach', 'Duluth', 'Honolulu', 'Boise', 'Chicago', 'Indianapolis', 'Des Moines', 'Topeka', 'Louisville', 'New Orleans', 'Portland', 'Darnestown', 'Cambridge', 'Detroit', 'Minneapolis', 'Sardis', 'St. Louis', 'Glasgow', 'Omaha', 'Las Vegas', 'Tilton', 'Jersey City', 'Albuquerque', 'New York City', 'Charlotte', 'Fargo', 'Cleveland', 'Oklahoma City', 'Portland', 'Philadelphia', 'Providence']\n",
      "['Alabama', 'Alaska', 'Arizona', 'Arkansas', 'California', 'Colorado', 'Connecticut', 'Delaware', 'Florida', 'Georgia', 'Hawaii', 'Idaho', 'Illinois', 'Indiana', 'Iowa', 'Kansas', 'Kentucky', 'Louisiana', 'Maine', 'Maryland', 'Massachusetts', 'Michigan', 'Minnesota', 'Mississippi', 'Missouri', 'Montana', 'Nebraska', 'Nevada', 'New Hampshire', 'New Jersey', 'New Mexico', 'New York', 'North Carolina', 'North Dakota', 'Ohio', 'Oklahoma', 'Oregon', 'Pennsylvania', 'Rhode Island', 'South Carolina'] ['Bottega Café', 'Moose’s Tooth Pub and Pizzeria', 'Pizzeria Bianco', 'Wood Stone Craft Pizza & Bar', 'Tony’s Pizza Napoletana', 'Pizzeria Locale', 'Frank Pepe Pizzeria Napoletana', 'The Wood Fired Pizza Shop', 'Scuola Vecchia Pizza e Vino', 'O4W Pizza', 'J.J. Dolan’s', 'Guido’s Original New York Style Pizza', 'Pequod’s', 'Diavola', 'Gusto Pizza Co.', 'AJ’s NY Pizzeria', 'Garage Bar', 'Pizza Domenica', 'Micucci Grocery Store', 'Inferno', 'Area Four', 'Buddy’s Pizza', 'Pizzeria Lola', 'TriBecca Allie Café', 'Imo’s', 'Eugene’s', 'Zio’s', 'Pizza Rock', 'Tilton House of Pizza', 'Razza', 'Il Vicino Wood Oven Pizza', 'John’s of Bleecker Street', 'Pizzeria Omaggio', 'Blackbird Woodfire', 'Crust', 'Empire Slice House', 'Ken’s Artisan Pizza', 'Pizzeria Vetri', 'Al Forno', 'Monza Pizza'] ['Birmingham', 'Anchorage', 'Phoenix', 'Fayetteville', 'San Francisco', 'Denver', 'New Haven', 'Newark', 'Delray Beach', 'Duluth', 'Honolulu', 'Boise', 'Chicago', 'Indianapolis', 'Des Moines', 'Topeka', 'Louisville', 'New Orleans', 'Portland', 'Darnestown', 'Cambridge', 'Detroit', 'Minneapolis', 'Sardis', 'St. Louis', 'Glasgow', 'Omaha', 'Las Vegas', 'Tilton', 'Jersey City', 'Albuquerque', 'New York City', 'Charlotte', 'Fargo', 'Cleveland', 'Oklahoma City', 'Portland', 'Philadelphia', 'Providence', 'Charleston']\n",
      "['Alabama', 'Alaska', 'Arizona', 'Arkansas', 'California', 'Colorado', 'Connecticut', 'Delaware', 'Florida', 'Georgia', 'Hawaii', 'Idaho', 'Illinois', 'Indiana', 'Iowa', 'Kansas', 'Kentucky', 'Louisiana', 'Maine', 'Maryland', 'Massachusetts', 'Michigan', 'Minnesota', 'Mississippi', 'Missouri', 'Montana', 'Nebraska', 'Nevada', 'New Hampshire', 'New Jersey', 'New Mexico', 'New York', 'North Carolina', 'North Dakota', 'Ohio', 'Oklahoma', 'Oregon', 'Pennsylvania', 'Rhode Island', 'South Carolina', 'South Dakota'] ['Bottega Café', 'Moose’s Tooth Pub and Pizzeria', 'Pizzeria Bianco', 'Wood Stone Craft Pizza & Bar', 'Tony’s Pizza Napoletana', 'Pizzeria Locale', 'Frank Pepe Pizzeria Napoletana', 'The Wood Fired Pizza Shop', 'Scuola Vecchia Pizza e Vino', 'O4W Pizza', 'J.J. Dolan’s', 'Guido’s Original New York Style Pizza', 'Pequod’s', 'Diavola', 'Gusto Pizza Co.', 'AJ’s NY Pizzeria', 'Garage Bar', 'Pizza Domenica', 'Micucci Grocery Store', 'Inferno', 'Area Four', 'Buddy’s Pizza', 'Pizzeria Lola', 'TriBecca Allie Café', 'Imo’s', 'Eugene’s', 'Zio’s', 'Pizza Rock', 'Tilton House of Pizza', 'Razza', 'Il Vicino Wood Oven Pizza', 'John’s of Bleecker Street', 'Pizzeria Omaggio', 'Blackbird Woodfire', 'Crust', 'Empire Slice House', 'Ken’s Artisan Pizza', 'Pizzeria Vetri', 'Al Forno', 'Monza Pizza', 'Thatzza Pizza'] ['Birmingham', 'Anchorage', 'Phoenix', 'Fayetteville', 'San Francisco', 'Denver', 'New Haven', 'Newark', 'Delray Beach', 'Duluth', 'Honolulu', 'Boise', 'Chicago', 'Indianapolis', 'Des Moines', 'Topeka', 'Louisville', 'New Orleans', 'Portland', 'Darnestown', 'Cambridge', 'Detroit', 'Minneapolis', 'Sardis', 'St. Louis', 'Glasgow', 'Omaha', 'Las Vegas', 'Tilton', 'Jersey City', 'Albuquerque', 'New York City', 'Charlotte', 'Fargo', 'Cleveland', 'Oklahoma City', 'Portland', 'Philadelphia', 'Providence', 'Charleston', 'Aberdeen']\n",
      "['Alabama', 'Alaska', 'Arizona', 'Arkansas', 'California', 'Colorado', 'Connecticut', 'Delaware', 'Florida', 'Georgia', 'Hawaii', 'Idaho', 'Illinois', 'Indiana', 'Iowa', 'Kansas', 'Kentucky', 'Louisiana', 'Maine', 'Maryland', 'Massachusetts', 'Michigan', 'Minnesota', 'Mississippi', 'Missouri', 'Montana', 'Nebraska', 'Nevada', 'New Hampshire', 'New Jersey', 'New Mexico', 'New York', 'North Carolina', 'North Dakota', 'Ohio', 'Oklahoma', 'Oregon', 'Pennsylvania', 'Rhode Island', 'South Carolina', 'South Dakota', 'Tennessee'] ['Bottega Café', 'Moose’s Tooth Pub and Pizzeria', 'Pizzeria Bianco', 'Wood Stone Craft Pizza & Bar', 'Tony’s Pizza Napoletana', 'Pizzeria Locale', 'Frank Pepe Pizzeria Napoletana', 'The Wood Fired Pizza Shop', 'Scuola Vecchia Pizza e Vino', 'O4W Pizza', 'J.J. Dolan’s', 'Guido’s Original New York Style Pizza', 'Pequod’s', 'Diavola', 'Gusto Pizza Co.', 'AJ’s NY Pizzeria', 'Garage Bar', 'Pizza Domenica', 'Micucci Grocery Store', 'Inferno', 'Area Four', 'Buddy’s Pizza', 'Pizzeria Lola', 'TriBecca Allie Café', 'Imo’s', 'Eugene’s', 'Zio’s', 'Pizza Rock', 'Tilton House of Pizza', 'Razza', 'Il Vicino Wood Oven Pizza', 'John’s of Bleecker Street', 'Pizzeria Omaggio', 'Blackbird Woodfire', 'Crust', 'Empire Slice House', 'Ken’s Artisan Pizza', 'Pizzeria Vetri', 'Al Forno', 'Monza Pizza', 'Thatzza Pizza', 'Hog & Hominy'] ['Birmingham', 'Anchorage', 'Phoenix', 'Fayetteville', 'San Francisco', 'Denver', 'New Haven', 'Newark', 'Delray Beach', 'Duluth', 'Honolulu', 'Boise', 'Chicago', 'Indianapolis', 'Des Moines', 'Topeka', 'Louisville', 'New Orleans', 'Portland', 'Darnestown', 'Cambridge', 'Detroit', 'Minneapolis', 'Sardis', 'St. Louis', 'Glasgow', 'Omaha', 'Las Vegas', 'Tilton', 'Jersey City', 'Albuquerque', 'New York City', 'Charlotte', 'Fargo', 'Cleveland', 'Oklahoma City', 'Portland', 'Philadelphia', 'Providence', 'Charleston', 'Aberdeen', 'Memphis']\n",
      "['Alabama', 'Alaska', 'Arizona', 'Arkansas', 'California', 'Colorado', 'Connecticut', 'Delaware', 'Florida', 'Georgia', 'Hawaii', 'Idaho', 'Illinois', 'Indiana', 'Iowa', 'Kansas', 'Kentucky', 'Louisiana', 'Maine', 'Maryland', 'Massachusetts', 'Michigan', 'Minnesota', 'Mississippi', 'Missouri', 'Montana', 'Nebraska', 'Nevada', 'New Hampshire', 'New Jersey', 'New Mexico', 'New York', 'North Carolina', 'North Dakota', 'Ohio', 'Oklahoma', 'Oregon', 'Pennsylvania', 'Rhode Island', 'South Carolina', 'South Dakota', 'Tennessee', 'Texas'] ['Bottega Café', 'Moose’s Tooth Pub and Pizzeria', 'Pizzeria Bianco', 'Wood Stone Craft Pizza & Bar', 'Tony’s Pizza Napoletana', 'Pizzeria Locale', 'Frank Pepe Pizzeria Napoletana', 'The Wood Fired Pizza Shop', 'Scuola Vecchia Pizza e Vino', 'O4W Pizza', 'J.J. Dolan’s', 'Guido’s Original New York Style Pizza', 'Pequod’s', 'Diavola', 'Gusto Pizza Co.', 'AJ’s NY Pizzeria', 'Garage Bar', 'Pizza Domenica', 'Micucci Grocery Store', 'Inferno', 'Area Four', 'Buddy’s Pizza', 'Pizzeria Lola', 'TriBecca Allie Café', 'Imo’s', 'Eugene’s', 'Zio’s', 'Pizza Rock', 'Tilton House of Pizza', 'Razza', 'Il Vicino Wood Oven Pizza', 'John’s of Bleecker Street', 'Pizzeria Omaggio', 'Blackbird Woodfire', 'Crust', 'Empire Slice House', 'Ken’s Artisan Pizza', 'Pizzeria Vetri', 'Al Forno', 'Monza Pizza', 'Thatzza Pizza', 'Hog & Hominy', 'Home Slice Pizza'] ['Birmingham', 'Anchorage', 'Phoenix', 'Fayetteville', 'San Francisco', 'Denver', 'New Haven', 'Newark', 'Delray Beach', 'Duluth', 'Honolulu', 'Boise', 'Chicago', 'Indianapolis', 'Des Moines', 'Topeka', 'Louisville', 'New Orleans', 'Portland', 'Darnestown', 'Cambridge', 'Detroit', 'Minneapolis', 'Sardis', 'St. Louis', 'Glasgow', 'Omaha', 'Las Vegas', 'Tilton', 'Jersey City', 'Albuquerque', 'New York City', 'Charlotte', 'Fargo', 'Cleveland', 'Oklahoma City', 'Portland', 'Philadelphia', 'Providence', 'Charleston', 'Aberdeen', 'Memphis', 'Austin']\n",
      "['Alabama', 'Alaska', 'Arizona', 'Arkansas', 'California', 'Colorado', 'Connecticut', 'Delaware', 'Florida', 'Georgia', 'Hawaii', 'Idaho', 'Illinois', 'Indiana', 'Iowa', 'Kansas', 'Kentucky', 'Louisiana', 'Maine', 'Maryland', 'Massachusetts', 'Michigan', 'Minnesota', 'Mississippi', 'Missouri', 'Montana', 'Nebraska', 'Nevada', 'New Hampshire', 'New Jersey', 'New Mexico', 'New York', 'North Carolina', 'North Dakota', 'Ohio', 'Oklahoma', 'Oregon', 'Pennsylvania', 'Rhode Island', 'South Carolina', 'South Dakota', 'Tennessee', 'Texas', 'Utah'] ['Bottega Café', 'Moose’s Tooth Pub and Pizzeria', 'Pizzeria Bianco', 'Wood Stone Craft Pizza & Bar', 'Tony’s Pizza Napoletana', 'Pizzeria Locale', 'Frank Pepe Pizzeria Napoletana', 'The Wood Fired Pizza Shop', 'Scuola Vecchia Pizza e Vino', 'O4W Pizza', 'J.J. Dolan’s', 'Guido’s Original New York Style Pizza', 'Pequod’s', 'Diavola', 'Gusto Pizza Co.', 'AJ’s NY Pizzeria', 'Garage Bar', 'Pizza Domenica', 'Micucci Grocery Store', 'Inferno', 'Area Four', 'Buddy’s Pizza', 'Pizzeria Lola', 'TriBecca Allie Café', 'Imo’s', 'Eugene’s', 'Zio’s', 'Pizza Rock', 'Tilton House of Pizza', 'Razza', 'Il Vicino Wood Oven Pizza', 'John’s of Bleecker Street', 'Pizzeria Omaggio', 'Blackbird Woodfire', 'Crust', 'Empire Slice House', 'Ken’s Artisan Pizza', 'Pizzeria Vetri', 'Al Forno', 'Monza Pizza', 'Thatzza Pizza', 'Hog & Hominy', 'Home Slice Pizza', 'Settebello'] ['Birmingham', 'Anchorage', 'Phoenix', 'Fayetteville', 'San Francisco', 'Denver', 'New Haven', 'Newark', 'Delray Beach', 'Duluth', 'Honolulu', 'Boise', 'Chicago', 'Indianapolis', 'Des Moines', 'Topeka', 'Louisville', 'New Orleans', 'Portland', 'Darnestown', 'Cambridge', 'Detroit', 'Minneapolis', 'Sardis', 'St. Louis', 'Glasgow', 'Omaha', 'Las Vegas', 'Tilton', 'Jersey City', 'Albuquerque', 'New York City', 'Charlotte', 'Fargo', 'Cleveland', 'Oklahoma City', 'Portland', 'Philadelphia', 'Providence', 'Charleston', 'Aberdeen', 'Memphis', 'Austin', 'Salt Lake City']\n",
      "['Alabama', 'Alaska', 'Arizona', 'Arkansas', 'California', 'Colorado', 'Connecticut', 'Delaware', 'Florida', 'Georgia', 'Hawaii', 'Idaho', 'Illinois', 'Indiana', 'Iowa', 'Kansas', 'Kentucky', 'Louisiana', 'Maine', 'Maryland', 'Massachusetts', 'Michigan', 'Minnesota', 'Mississippi', 'Missouri', 'Montana', 'Nebraska', 'Nevada', 'New Hampshire', 'New Jersey', 'New Mexico', 'New York', 'North Carolina', 'North Dakota', 'Ohio', 'Oklahoma', 'Oregon', 'Pennsylvania', 'Rhode Island', 'South Carolina', 'South Dakota', 'Tennessee', 'Texas', 'Utah', 'Vermont'] ['Bottega Café', 'Moose’s Tooth Pub and Pizzeria', 'Pizzeria Bianco', 'Wood Stone Craft Pizza & Bar', 'Tony’s Pizza Napoletana', 'Pizzeria Locale', 'Frank Pepe Pizzeria Napoletana', 'The Wood Fired Pizza Shop', 'Scuola Vecchia Pizza e Vino', 'O4W Pizza', 'J.J. Dolan’s', 'Guido’s Original New York Style Pizza', 'Pequod’s', 'Diavola', 'Gusto Pizza Co.', 'AJ’s NY Pizzeria', 'Garage Bar', 'Pizza Domenica', 'Micucci Grocery Store', 'Inferno', 'Area Four', 'Buddy’s Pizza', 'Pizzeria Lola', 'TriBecca Allie Café', 'Imo’s', 'Eugene’s', 'Zio’s', 'Pizza Rock', 'Tilton House of Pizza', 'Razza', 'Il Vicino Wood Oven Pizza', 'John’s of Bleecker Street', 'Pizzeria Omaggio', 'Blackbird Woodfire', 'Crust', 'Empire Slice House', 'Ken’s Artisan Pizza', 'Pizzeria Vetri', 'Al Forno', 'Monza Pizza', 'Thatzza Pizza', 'Hog & Hominy', 'Home Slice Pizza', 'Settebello', 'Pizzeria Verita'] ['Birmingham', 'Anchorage', 'Phoenix', 'Fayetteville', 'San Francisco', 'Denver', 'New Haven', 'Newark', 'Delray Beach', 'Duluth', 'Honolulu', 'Boise', 'Chicago', 'Indianapolis', 'Des Moines', 'Topeka', 'Louisville', 'New Orleans', 'Portland', 'Darnestown', 'Cambridge', 'Detroit', 'Minneapolis', 'Sardis', 'St. Louis', 'Glasgow', 'Omaha', 'Las Vegas', 'Tilton', 'Jersey City', 'Albuquerque', 'New York City', 'Charlotte', 'Fargo', 'Cleveland', 'Oklahoma City', 'Portland', 'Philadelphia', 'Providence', 'Charleston', 'Aberdeen', 'Memphis', 'Austin', 'Salt Lake City', 'Burlington']\n",
      "['Alabama', 'Alaska', 'Arizona', 'Arkansas', 'California', 'Colorado', 'Connecticut', 'Delaware', 'Florida', 'Georgia', 'Hawaii', 'Idaho', 'Illinois', 'Indiana', 'Iowa', 'Kansas', 'Kentucky', 'Louisiana', 'Maine', 'Maryland', 'Massachusetts', 'Michigan', 'Minnesota', 'Mississippi', 'Missouri', 'Montana', 'Nebraska', 'Nevada', 'New Hampshire', 'New Jersey', 'New Mexico', 'New York', 'North Carolina', 'North Dakota', 'Ohio', 'Oklahoma', 'Oregon', 'Pennsylvania', 'Rhode Island', 'South Carolina', 'South Dakota', 'Tennessee', 'Texas', 'Utah', 'Vermont', 'Virginia'] ['Bottega Café', 'Moose’s Tooth Pub and Pizzeria', 'Pizzeria Bianco', 'Wood Stone Craft Pizza & Bar', 'Tony’s Pizza Napoletana', 'Pizzeria Locale', 'Frank Pepe Pizzeria Napoletana', 'The Wood Fired Pizza Shop', 'Scuola Vecchia Pizza e Vino', 'O4W Pizza', 'J.J. Dolan’s', 'Guido’s Original New York Style Pizza', 'Pequod’s', 'Diavola', 'Gusto Pizza Co.', 'AJ’s NY Pizzeria', 'Garage Bar', 'Pizza Domenica', 'Micucci Grocery Store', 'Inferno', 'Area Four', 'Buddy’s Pizza', 'Pizzeria Lola', 'TriBecca Allie Café', 'Imo’s', 'Eugene’s', 'Zio’s', 'Pizza Rock', 'Tilton House of Pizza', 'Razza', 'Il Vicino Wood Oven Pizza', 'John’s of Bleecker Street', 'Pizzeria Omaggio', 'Blackbird Woodfire', 'Crust', 'Empire Slice House', 'Ken’s Artisan Pizza', 'Pizzeria Vetri', 'Al Forno', 'Monza Pizza', 'Thatzza Pizza', 'Hog & Hominy', 'Home Slice Pizza', 'Settebello', 'Pizzeria Verita', 'Pupatella Neapolitan Pizza'] ['Birmingham', 'Anchorage', 'Phoenix', 'Fayetteville', 'San Francisco', 'Denver', 'New Haven', 'Newark', 'Delray Beach', 'Duluth', 'Honolulu', 'Boise', 'Chicago', 'Indianapolis', 'Des Moines', 'Topeka', 'Louisville', 'New Orleans', 'Portland', 'Darnestown', 'Cambridge', 'Detroit', 'Minneapolis', 'Sardis', 'St. Louis', 'Glasgow', 'Omaha', 'Las Vegas', 'Tilton', 'Jersey City', 'Albuquerque', 'New York City', 'Charlotte', 'Fargo', 'Cleveland', 'Oklahoma City', 'Portland', 'Philadelphia', 'Providence', 'Charleston', 'Aberdeen', 'Memphis', 'Austin', 'Salt Lake City', 'Burlington', 'Arlington']\n",
      "['Alabama', 'Alaska', 'Arizona', 'Arkansas', 'California', 'Colorado', 'Connecticut', 'Delaware', 'Florida', 'Georgia', 'Hawaii', 'Idaho', 'Illinois', 'Indiana', 'Iowa', 'Kansas', 'Kentucky', 'Louisiana', 'Maine', 'Maryland', 'Massachusetts', 'Michigan', 'Minnesota', 'Mississippi', 'Missouri', 'Montana', 'Nebraska', 'Nevada', 'New Hampshire', 'New Jersey', 'New Mexico', 'New York', 'North Carolina', 'North Dakota', 'Ohio', 'Oklahoma', 'Oregon', 'Pennsylvania', 'Rhode Island', 'South Carolina', 'South Dakota', 'Tennessee', 'Texas', 'Utah', 'Vermont', 'Virginia', 'Washington'] ['Bottega Café', 'Moose’s Tooth Pub and Pizzeria', 'Pizzeria Bianco', 'Wood Stone Craft Pizza & Bar', 'Tony’s Pizza Napoletana', 'Pizzeria Locale', 'Frank Pepe Pizzeria Napoletana', 'The Wood Fired Pizza Shop', 'Scuola Vecchia Pizza e Vino', 'O4W Pizza', 'J.J. Dolan’s', 'Guido’s Original New York Style Pizza', 'Pequod’s', 'Diavola', 'Gusto Pizza Co.', 'AJ’s NY Pizzeria', 'Garage Bar', 'Pizza Domenica', 'Micucci Grocery Store', 'Inferno', 'Area Four', 'Buddy’s Pizza', 'Pizzeria Lola', 'TriBecca Allie Café', 'Imo’s', 'Eugene’s', 'Zio’s', 'Pizza Rock', 'Tilton House of Pizza', 'Razza', 'Il Vicino Wood Oven Pizza', 'John’s of Bleecker Street', 'Pizzeria Omaggio', 'Blackbird Woodfire', 'Crust', 'Empire Slice House', 'Ken’s Artisan Pizza', 'Pizzeria Vetri', 'Al Forno', 'Monza Pizza', 'Thatzza Pizza', 'Hog & Hominy', 'Home Slice Pizza', 'Settebello', 'Pizzeria Verita', 'Pupatella Neapolitan Pizza', 'Serious Pie'] ['Birmingham', 'Anchorage', 'Phoenix', 'Fayetteville', 'San Francisco', 'Denver', 'New Haven', 'Newark', 'Delray Beach', 'Duluth', 'Honolulu', 'Boise', 'Chicago', 'Indianapolis', 'Des Moines', 'Topeka', 'Louisville', 'New Orleans', 'Portland', 'Darnestown', 'Cambridge', 'Detroit', 'Minneapolis', 'Sardis', 'St. Louis', 'Glasgow', 'Omaha', 'Las Vegas', 'Tilton', 'Jersey City', 'Albuquerque', 'New York City', 'Charlotte', 'Fargo', 'Cleveland', 'Oklahoma City', 'Portland', 'Philadelphia', 'Providence', 'Charleston', 'Aberdeen', 'Memphis', 'Austin', 'Salt Lake City', 'Burlington', 'Arlington', 'Seattle']\n",
      "['Alabama', 'Alaska', 'Arizona', 'Arkansas', 'California', 'Colorado', 'Connecticut', 'Delaware', 'Florida', 'Georgia', 'Hawaii', 'Idaho', 'Illinois', 'Indiana', 'Iowa', 'Kansas', 'Kentucky', 'Louisiana', 'Maine', 'Maryland', 'Massachusetts', 'Michigan', 'Minnesota', 'Mississippi', 'Missouri', 'Montana', 'Nebraska', 'Nevada', 'New Hampshire', 'New Jersey', 'New Mexico', 'New York', 'North Carolina', 'North Dakota', 'Ohio', 'Oklahoma', 'Oregon', 'Pennsylvania', 'Rhode Island', 'South Carolina', 'South Dakota', 'Tennessee', 'Texas', 'Utah', 'Vermont', 'Virginia', 'Washington', 'West Virginia'] ['Bottega Café', 'Moose’s Tooth Pub and Pizzeria', 'Pizzeria Bianco', 'Wood Stone Craft Pizza & Bar', 'Tony’s Pizza Napoletana', 'Pizzeria Locale', 'Frank Pepe Pizzeria Napoletana', 'The Wood Fired Pizza Shop', 'Scuola Vecchia Pizza e Vino', 'O4W Pizza', 'J.J. Dolan’s', 'Guido’s Original New York Style Pizza', 'Pequod’s', 'Diavola', 'Gusto Pizza Co.', 'AJ’s NY Pizzeria', 'Garage Bar', 'Pizza Domenica', 'Micucci Grocery Store', 'Inferno', 'Area Four', 'Buddy’s Pizza', 'Pizzeria Lola', 'TriBecca Allie Café', 'Imo’s', 'Eugene’s', 'Zio’s', 'Pizza Rock', 'Tilton House of Pizza', 'Razza', 'Il Vicino Wood Oven Pizza', 'John’s of Bleecker Street', 'Pizzeria Omaggio', 'Blackbird Woodfire', 'Crust', 'Empire Slice House', 'Ken’s Artisan Pizza', 'Pizzeria Vetri', 'Al Forno', 'Monza Pizza', 'Thatzza Pizza', 'Hog & Hominy', 'Home Slice Pizza', 'Settebello', 'Pizzeria Verita', 'Pupatella Neapolitan Pizza', 'Serious Pie', 'Lola’s'] ['Birmingham', 'Anchorage', 'Phoenix', 'Fayetteville', 'San Francisco', 'Denver', 'New Haven', 'Newark', 'Delray Beach', 'Duluth', 'Honolulu', 'Boise', 'Chicago', 'Indianapolis', 'Des Moines', 'Topeka', 'Louisville', 'New Orleans', 'Portland', 'Darnestown', 'Cambridge', 'Detroit', 'Minneapolis', 'Sardis', 'St. Louis', 'Glasgow', 'Omaha', 'Las Vegas', 'Tilton', 'Jersey City', 'Albuquerque', 'New York City', 'Charlotte', 'Fargo', 'Cleveland', 'Oklahoma City', 'Portland', 'Philadelphia', 'Providence', 'Charleston', 'Aberdeen', 'Memphis', 'Austin', 'Salt Lake City', 'Burlington', 'Arlington', 'Seattle', 'Charleston']\n",
      "['Alabama', 'Alaska', 'Arizona', 'Arkansas', 'California', 'Colorado', 'Connecticut', 'Delaware', 'Florida', 'Georgia', 'Hawaii', 'Idaho', 'Illinois', 'Indiana', 'Iowa', 'Kansas', 'Kentucky', 'Louisiana', 'Maine', 'Maryland', 'Massachusetts', 'Michigan', 'Minnesota', 'Mississippi', 'Missouri', 'Montana', 'Nebraska', 'Nevada', 'New Hampshire', 'New Jersey', 'New Mexico', 'New York', 'North Carolina', 'North Dakota', 'Ohio', 'Oklahoma', 'Oregon', 'Pennsylvania', 'Rhode Island', 'South Carolina', 'South Dakota', 'Tennessee', 'Texas', 'Utah', 'Vermont', 'Virginia', 'Washington', 'West Virginia', 'Wisconsin'] ['Bottega Café', 'Moose’s Tooth Pub and Pizzeria', 'Pizzeria Bianco', 'Wood Stone Craft Pizza & Bar', 'Tony’s Pizza Napoletana', 'Pizzeria Locale', 'Frank Pepe Pizzeria Napoletana', 'The Wood Fired Pizza Shop', 'Scuola Vecchia Pizza e Vino', 'O4W Pizza', 'J.J. Dolan’s', 'Guido’s Original New York Style Pizza', 'Pequod’s', 'Diavola', 'Gusto Pizza Co.', 'AJ’s NY Pizzeria', 'Garage Bar', 'Pizza Domenica', 'Micucci Grocery Store', 'Inferno', 'Area Four', 'Buddy’s Pizza', 'Pizzeria Lola', 'TriBecca Allie Café', 'Imo’s', 'Eugene’s', 'Zio’s', 'Pizza Rock', 'Tilton House of Pizza', 'Razza', 'Il Vicino Wood Oven Pizza', 'John’s of Bleecker Street', 'Pizzeria Omaggio', 'Blackbird Woodfire', 'Crust', 'Empire Slice House', 'Ken’s Artisan Pizza', 'Pizzeria Vetri', 'Al Forno', 'Monza Pizza', 'Thatzza Pizza', 'Hog & Hominy', 'Home Slice Pizza', 'Settebello', 'Pizzeria Verita', 'Pupatella Neapolitan Pizza', 'Serious Pie', 'Lola’s', 'Zaffiro’s Pizza'] ['Birmingham', 'Anchorage', 'Phoenix', 'Fayetteville', 'San Francisco', 'Denver', 'New Haven', 'Newark', 'Delray Beach', 'Duluth', 'Honolulu', 'Boise', 'Chicago', 'Indianapolis', 'Des Moines', 'Topeka', 'Louisville', 'New Orleans', 'Portland', 'Darnestown', 'Cambridge', 'Detroit', 'Minneapolis', 'Sardis', 'St. Louis', 'Glasgow', 'Omaha', 'Las Vegas', 'Tilton', 'Jersey City', 'Albuquerque', 'New York City', 'Charlotte', 'Fargo', 'Cleveland', 'Oklahoma City', 'Portland', 'Philadelphia', 'Providence', 'Charleston', 'Aberdeen', 'Memphis', 'Austin', 'Salt Lake City', 'Burlington', 'Arlington', 'Seattle', 'Charleston', 'Milwaukee']\n",
      "['Alabama', 'Alaska', 'Arizona', 'Arkansas', 'California', 'Colorado', 'Connecticut', 'Delaware', 'Florida', 'Georgia', 'Hawaii', 'Idaho', 'Illinois', 'Indiana', 'Iowa', 'Kansas', 'Kentucky', 'Louisiana', 'Maine', 'Maryland', 'Massachusetts', 'Michigan', 'Minnesota', 'Mississippi', 'Missouri', 'Montana', 'Nebraska', 'Nevada', 'New Hampshire', 'New Jersey', 'New Mexico', 'New York', 'North Carolina', 'North Dakota', 'Ohio', 'Oklahoma', 'Oregon', 'Pennsylvania', 'Rhode Island', 'South Carolina', 'South Dakota', 'Tennessee', 'Texas', 'Utah', 'Vermont', 'Virginia', 'Washington', 'West Virginia', 'Wisconsin', 'Wyoming'] ['Bottega Café', 'Moose’s Tooth Pub and Pizzeria', 'Pizzeria Bianco', 'Wood Stone Craft Pizza & Bar', 'Tony’s Pizza Napoletana', 'Pizzeria Locale', 'Frank Pepe Pizzeria Napoletana', 'The Wood Fired Pizza Shop', 'Scuola Vecchia Pizza e Vino', 'O4W Pizza', 'J.J. Dolan’s', 'Guido’s Original New York Style Pizza', 'Pequod’s', 'Diavola', 'Gusto Pizza Co.', 'AJ’s NY Pizzeria', 'Garage Bar', 'Pizza Domenica', 'Micucci Grocery Store', 'Inferno', 'Area Four', 'Buddy’s Pizza', 'Pizzeria Lola', 'TriBecca Allie Café', 'Imo’s', 'Eugene’s', 'Zio’s', 'Pizza Rock', 'Tilton House of Pizza', 'Razza', 'Il Vicino Wood Oven Pizza', 'John’s of Bleecker Street', 'Pizzeria Omaggio', 'Blackbird Woodfire', 'Crust', 'Empire Slice House', 'Ken’s Artisan Pizza', 'Pizzeria Vetri', 'Al Forno', 'Monza Pizza', 'Thatzza Pizza', 'Hog & Hominy', 'Home Slice Pizza', 'Settebello', 'Pizzeria Verita', 'Pupatella Neapolitan Pizza', 'Serious Pie', 'Lola’s', 'Zaffiro’s Pizza', 'Bella Fuoco Wood Fired Pizza'] ['Birmingham', 'Anchorage', 'Phoenix', 'Fayetteville', 'San Francisco', 'Denver', 'New Haven', 'Newark', 'Delray Beach', 'Duluth', 'Honolulu', 'Boise', 'Chicago', 'Indianapolis', 'Des Moines', 'Topeka', 'Louisville', 'New Orleans', 'Portland', 'Darnestown', 'Cambridge', 'Detroit', 'Minneapolis', 'Sardis', 'St. Louis', 'Glasgow', 'Omaha', 'Las Vegas', 'Tilton', 'Jersey City', 'Albuquerque', 'New York City', 'Charlotte', 'Fargo', 'Cleveland', 'Oklahoma City', 'Portland', 'Philadelphia', 'Providence', 'Charleston', 'Aberdeen', 'Memphis', 'Austin', 'Salt Lake City', 'Burlington', 'Arlington', 'Seattle', 'Charleston', 'Milwaukee', 'Cheyenne']\n"
     ]
    }
   ],
   "source": [
    "# Use bs4 to scrape the elemnets from the html object\n",
    "state = []\n",
    "name = []\n",
    "city = []\n",
    "# <div class=\"image-title slide-title\"><h2>Alabama: Bottega Café (Birmingham)</h2></div>\n",
    "\n",
    "soup = BeautifulSoup(html, 'html.parser')\n",
    "results = soup.find_all('div', {'class':'slide-main'})\n",
    "print(len(results))\n",
    "\n",
    "for item in results:\n",
    "    state_string = item.find('div', {'class' : ['image-title', 'slide-title']}).find('h2').text\n",
    "    try:\n",
    "        pattern = re.compile(r'Washington, D.C')\n",
    "        if re.match(pattern, state_string.split(':')[0]):\n",
    "            continue\n",
    "        else:\n",
    "\n",
    "            #state.append(state_string.split(':')[0])\n",
    "            state.append(str.strip(state_string.split(':')[0]))\n",
    "            name.append(str.strip(state_string.split(':')[1].split('(')[0]))\n",
    "            city.append(str.strip(state_string.split(':')[1].split('(')[1].split(')')[0]))\n",
    "\n",
    "    except Exception as e:\n",
    "        print(f\"Skipping....\")\n",
    "\n",
    "\n",
    "        \n",
    "    print(f\"{state} {name} {city}\")\n",
    "\n",
    "\n",
    "    \n",
    "    "
   ]
  },
  {
   "cell_type": "code",
   "execution_count": 178,
   "metadata": {},
   "outputs": [
    {
     "name": "stdout",
     "output_type": "stream",
     "text": [
      "50\n",
      "50\n",
      "50\n"
     ]
    }
   ],
   "source": [
    "# Verifying the length of arrays to make sure all data is scraped.\n",
    "print(len(state))\n",
    "print(len(city))\n",
    "print(len(name))\n"
   ]
  },
  {
   "cell_type": "code",
   "execution_count": 179,
   "metadata": {},
   "outputs": [
    {
     "data": {
      "text/html": [
       "<div>\n",
       "<style scoped>\n",
       "    .dataframe tbody tr th:only-of-type {\n",
       "        vertical-align: middle;\n",
       "    }\n",
       "\n",
       "    .dataframe tbody tr th {\n",
       "        vertical-align: top;\n",
       "    }\n",
       "\n",
       "    .dataframe thead th {\n",
       "        text-align: right;\n",
       "    }\n",
       "</style>\n",
       "<table border=\"1\" class=\"dataframe\">\n",
       "  <thead>\n",
       "    <tr style=\"text-align: right;\">\n",
       "      <th></th>\n",
       "      <th>restaurant_name</th>\n",
       "      <th>city</th>\n",
       "      <th>state</th>\n",
       "    </tr>\n",
       "  </thead>\n",
       "  <tbody>\n",
       "    <tr>\n",
       "      <th>0</th>\n",
       "      <td>Bottega Café</td>\n",
       "      <td>Birmingham</td>\n",
       "      <td>Alabama</td>\n",
       "    </tr>\n",
       "    <tr>\n",
       "      <th>1</th>\n",
       "      <td>Moose’s Tooth Pub and Pizzeria</td>\n",
       "      <td>Anchorage</td>\n",
       "      <td>Alaska</td>\n",
       "    </tr>\n",
       "    <tr>\n",
       "      <th>2</th>\n",
       "      <td>Pizzeria Bianco</td>\n",
       "      <td>Phoenix</td>\n",
       "      <td>Arizona</td>\n",
       "    </tr>\n",
       "    <tr>\n",
       "      <th>3</th>\n",
       "      <td>Wood Stone Craft Pizza &amp; Bar</td>\n",
       "      <td>Fayetteville</td>\n",
       "      <td>Arkansas</td>\n",
       "    </tr>\n",
       "    <tr>\n",
       "      <th>4</th>\n",
       "      <td>Tony’s Pizza Napoletana</td>\n",
       "      <td>San Francisco</td>\n",
       "      <td>California</td>\n",
       "    </tr>\n",
       "  </tbody>\n",
       "</table>\n",
       "</div>"
      ],
      "text/plain": [
       "                  restaurant_name           city       state\n",
       "0                    Bottega Café     Birmingham     Alabama\n",
       "1  Moose’s Tooth Pub and Pizzeria      Anchorage      Alaska\n",
       "2                 Pizzeria Bianco        Phoenix     Arizona\n",
       "3    Wood Stone Craft Pizza & Bar   Fayetteville    Arkansas\n",
       "4         Tony’s Pizza Napoletana  San Francisco  California"
      ]
     },
     "execution_count": 179,
     "metadata": {},
     "output_type": "execute_result"
    }
   ],
   "source": [
    "# Creating a dataframe for state wise best pizzas\n",
    "best_pizza_stores = pd.DataFrame({'restaurant_name' : name,\n",
    "                                 'city' : city,\n",
    "                                'state': state })\n",
    "best_pizza_stores.head()"
   ]
  },
  {
   "cell_type": "code",
   "execution_count": 181,
   "metadata": {},
   "outputs": [],
   "source": [
    "# Writing the dataframe to a csv\n",
    "best_pizza_stores.to_csv(\"./Resources/best_pizza_stores.csv\")"
   ]
  },
  {
   "cell_type": "code",
   "execution_count": null,
   "metadata": {},
   "outputs": [],
   "source": []
  }
 ],
 "metadata": {
  "kernelspec": {
   "display_name": "Python 3",
   "language": "python",
   "name": "python3"
  },
  "language_info": {
   "codemirror_mode": {
    "name": "ipython",
    "version": 3
   },
   "file_extension": ".py",
   "mimetype": "text/x-python",
   "name": "python",
   "nbconvert_exporter": "python",
   "pygments_lexer": "ipython3",
   "version": "3.7.3"
  }
 },
 "nbformat": 4,
 "nbformat_minor": 2
}
